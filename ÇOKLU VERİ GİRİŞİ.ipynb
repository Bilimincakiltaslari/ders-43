{
 "cells": [
  {
   "cell_type": "code",
   "execution_count": null,
   "metadata": {},
   "outputs": [],
   "source": [
    "# İstediğimiz kadar sayının toplamını bulmak\n",
    "def çt(*p):\n",
    "    #topsay = \"\"\n",
    "    #sayaç = 0\n",
    "    toplam = 0\n",
    "    for n in p:\n",
    "        toplam = toplam + n\n",
    "        #sayaç += 1\n",
    "        #m = str(n)\n",
    "        #if sayaç == len(p):\n",
    "            #topsay += m + \"=\"\n",
    "        #else:\n",
    "            #topsay += m + \"+\"\n",
    "    print(\"topsay\",toplam)"
   ]
  },
  {
   "cell_type": "code",
   "execution_count": null,
   "metadata": {},
   "outputs": [],
   "source": [
    "çt(5,10,25,50,10)"
   ]
  },
  {
   "cell_type": "code",
   "execution_count": null,
   "metadata": {},
   "outputs": [],
   "source": [
    "%%writefile hesap.py\n",
    "print(\"Modul çalıştırıldı.\")\n",
    "def t(x,y):\n",
    "    print (x,\"+\",y,\"=\",x+y)\n",
    "def f(x,y):\n",
    "    print (x,\"-\",y,\"=\",x-y)\n",
    "def ç(x,y):\n",
    "    print (x,\"*\",y,\"=\",x*y)\n",
    "def b(x,y):\n",
    "    print (x,\"/\",y,\"=\",x/y)\n",
    "def çt(*p):\n",
    "    topsay = \"\"\n",
    "    toplam = 0\n",
    "    sayaç = 0\n",
    "    for n in p:\n",
    "        sayaç += 1\n",
    "        toplam = toplam + n\n",
    "        m = str(n)\n",
    "        if sayaç == len(p):\n",
    "            topsay += m + \"=\"\n",
    "        else:\n",
    "            topsay += m + \"+\"\n",
    "    print(topsay,toplam)"
   ]
  },
  {
   "cell_type": "code",
   "execution_count": null,
   "metadata": {},
   "outputs": [],
   "source": [
    "import hesap\n",
    "from hesap import t,ç,f,b,çt"
   ]
  },
  {
   "cell_type": "code",
   "execution_count": null,
   "metadata": {},
   "outputs": [],
   "source": [
    "%%writefile fonksiyon.py\n",
    "def fntoplam(f, a, b):\n",
    "    i = a\n",
    "    toplam = 0\n",
    "    while i<=b:\n",
    "        toplam += f(i)\n",
    "        \n",
    "        i += 1\n",
    "    return toplam\n",
    "    \n",
    "def f1(x):\n",
    "    return 1/x\n",
    "\n",
    "def f2(x):\n",
    "    return 2**x\n",
    "    \n",
    "def f3(x):\n",
    "    return x**2\n",
    "def f4(x):\n",
    "    return 2*x\n",
    "def f5(x):\n",
    "    return x/(x+1)"
   ]
  },
  {
   "cell_type": "code",
   "execution_count": null,
   "metadata": {},
   "outputs": [],
   "source": [
    "import fonksiyon\n",
    "from fonksiyon import fntoplam,f1,f2,f3,f4,f5"
   ]
  },
  {
   "cell_type": "code",
   "execution_count": null,
   "metadata": {},
   "outputs": [],
   "source": [
    "fntoplam(f5,4,6)"
   ]
  },
  {
   "cell_type": "code",
   "execution_count": null,
   "metadata": {},
   "outputs": [],
   "source": [
    "import colorama\n",
    "from colorama import Fore, Back, Style\n",
    "def kisi(**veri):\n",
    "    syc = 0\n",
    "    for bir, iki , in veri.items():\n",
    "        syc += 1\n",
    "        print(\"{:<9}  {:>3}\".\n",
    "                  format(Fore.WHITE + Back.RED + bir + Style.RESET_ALL , iki),\n",
    "                  end=\"    \")\n",
    "        if syc == len(veri):\n",
    "            print()\n",
    "\n",
    "kisi(No=2625,Matematik= 94 , Fen = 92 , Türkçe = 98 , Sosyal = 100)\n",
    "kisi(No=3215,Matematik= 100 , Fen = 100 , Türkçe = 100 , Sosyal = 100)\n",
    "kisi(No=1874,Matematik= 65 , Fen = 96 , Türkçe = 78 , Sosyal = 90)"
   ]
  },
  {
   "cell_type": "code",
   "execution_count": null,
   "metadata": {},
   "outputs": [],
   "source": [
    "kisi(Fen=79)"
   ]
  },
  {
   "cell_type": "code",
   "execution_count": null,
   "metadata": {},
   "outputs": [],
   "source": [
    "import colorama\n",
    "from colorama import Fore, Back, Style\n",
    "def kisi(**veri):\n",
    "    syc = 0\n",
    "    for bir, iki in veri.items():\n",
    "        syc += 1\n",
    "        if syc == 2:\n",
    "            print(\"{:<3} = {:>3}\".\n",
    "                  format(Fore.WHITE + Back.RED + bir + Style.RESET_ALL , iki),\n",
    "                  end=\"    \")\n",
    "        elif syc == 1 or syc == 3: \n",
    "            print(\"{:<3} = {:<10}\".\n",
    "                  format(Fore.WHITE + Back.RED + bir + Style.RESET_ALL , \n",
    "                         iki),end=\"    \")\n",
    "        else:\n",
    "            print(\"{:<3} = {:>12}\".\n",
    "                  format(Fore.WHITE + Back.RED + bir + Style.RESET_ALL , iki),\n",
    "                  end=\"    \")\n",
    "        if syc == len(veri):\n",
    "            print()\n",
    "            syc = 0\n",
    "\n",
    "kisi(Adı= \"Çınar\", yaş = 2, Şehir = \"İstanbul\")\n",
    "kisi(Adı= \"Ada\", yaş = 12, Şehir = \"Kocaeli\", Tel = \"5991234567\")\n",
    "kisi(Adı= \"Yiğit\", yaş = 14, Şehir = \"Ankara\", Tel = \"5987654321\")\n"
   ]
  },
  {
   "cell_type": "code",
   "execution_count": null,
   "metadata": {},
   "outputs": [],
   "source": [
    "def listeyeCevir(*params):\n",
    "    liste = []\n",
    "\n",
    "    for param in params:\n",
    "         liste.append(param)\n",
    "    return liste\n",
    "\n",
    "sonuc = listeyeCevir(\"Notlar\",10,20,30)\n",
    "print(sonuc)"
   ]
  },
  {
   "cell_type": "code",
   "execution_count": null,
   "metadata": {},
   "outputs": [],
   "source": [
    "def ngir(*params):\n",
    "    liste = []\n",
    "    for notum in params:\n",
    "        liste.append(notum)\n",
    "    liste.append(\"Ortalama =\")\n",
    "    toplam = 0\n",
    "    syc = 0\n",
    "    for i in liste:\n",
    "        if type(i) == int:\n",
    "            syc += 1\n",
    "            toplam += i\n",
    "    ortalama = toplam / syc\n",
    "    liste.append(ortalama)\n",
    "    return liste\n",
    "    "
   ]
  },
  {
   "cell_type": "code",
   "execution_count": null,
   "metadata": {},
   "outputs": [],
   "source": [
    "ngir(\"Matematik\",60,80,100,20,100,90)"
   ]
  },
  {
   "cell_type": "code",
   "execution_count": null,
   "metadata": {},
   "outputs": [],
   "source": [
    "ngir(\"mat1\",60,\"mat2\",96,\"mat3\",93)"
   ]
  },
  {
   "cell_type": "code",
   "execution_count": null,
   "metadata": {},
   "outputs": [],
   "source": []
  }
 ],
 "metadata": {
  "kernelspec": {
   "display_name": "Python 3",
   "language": "python",
   "name": "python3"
  },
  "language_info": {
   "codemirror_mode": {
    "name": "ipython",
    "version": 3
   },
   "file_extension": ".py",
   "mimetype": "text/x-python",
   "name": "python",
   "nbconvert_exporter": "python",
   "pygments_lexer": "ipython3",
   "version": "3.7.3"
  }
 },
 "nbformat": 4,
 "nbformat_minor": 2
}
